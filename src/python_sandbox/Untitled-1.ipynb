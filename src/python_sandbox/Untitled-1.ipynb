{
 "cells": [
  {
   "cell_type": "code",
   "execution_count": 5,
   "id": "62354560",
   "metadata": {},
   "outputs": [
    {
     "name": "stdout",
     "output_type": "stream",
     "text": [
      "1から100までの間で好きな数字を1つ思い浮かべてください．\n",
      "あなたの考えている数字を7回以内に当ててみましょう．\n",
      "1 100\n",
      "質問 0\n",
      "質問 1\n",
      "質問 2\n",
      "質問 3\n",
      "質問 4\n",
      "質問 5\n",
      "質問 6\n"
     ]
    }
   ],
   "source": [
    "print('1から100までの間で好きな数字を1つ思い浮かべてください．')\n",
    "print('あなたの考えている数字を7回以内に当ててみましょう．')\n",
    "\n",
    "# low: 最小の数値，high: 最大の数値\n",
    "low = 1\n",
    "high = 100\n",
    "print(low, high)\n",
    "\n",
    "for i in range(7):\n",
    "    print('質問', i)"
   ]
  }
 ],
 "metadata": {
  "kernelspec": {
   "display_name": "Python 3",
   "language": "python",
   "name": "python3"
  },
  "language_info": {
   "codemirror_mode": {
    "name": "ipython",
    "version": 3
   },
   "file_extension": ".py",
   "mimetype": "text/x-python",
   "name": "python",
   "nbconvert_exporter": "python",
   "pygments_lexer": "ipython3",
   "version": "3.12.10"
  }
 },
 "nbformat": 4,
 "nbformat_minor": 5
}
