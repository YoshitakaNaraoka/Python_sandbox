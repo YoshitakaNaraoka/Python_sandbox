{
 "cells": [
  {
   "cell_type": "code",
   "execution_count": null,
   "id": "62354560",
   "metadata": {},
   "outputs": [
    {
     "name": "stdout",
     "output_type": "stream",
     "text": [
      "1から100までの間で好きな数字を1つ思い浮かべてください．\n",
      "あなたの考えている数字を7回以内に当ててみましょう．\n",
      "1 100\n",
      "あなたの数字は 50 より大きいですか？(yes/no)\n"
     ]
    }
   ],
   "source": []
  }
 ],
 "metadata": {
  "kernelspec": {
   "display_name": "Python 3",
   "language": "python",
   "name": "python3"
  },
  "language_info": {
   "codemirror_mode": {
    "name": "ipython",
    "version": 3
   },
   "file_extension": ".py",
   "mimetype": "text/x-python",
   "name": "python",
   "nbconvert_exporter": "python",
   "pygments_lexer": "ipython3",
   "version": "3.12.10"
  }
 },
 "nbformat": 4,
 "nbformat_minor": 5
}
